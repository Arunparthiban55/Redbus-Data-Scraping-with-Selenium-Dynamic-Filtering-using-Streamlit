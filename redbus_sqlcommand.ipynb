{
 "cells": [
  {
   "cell_type": "code",
   "execution_count": null,
   "metadata": {},
   "outputs": [],
   "source": [
    "!pip install mysql-connector-python"
   ]
  },
  {
   "cell_type": "markdown",
   "metadata": {},
   "source": [
    "### mysql connectiion process"
   ]
  },
  {
   "cell_type": "code",
   "execution_count": 1,
   "metadata": {},
   "outputs": [
    {
     "name": "stdout",
     "output_type": "stream",
     "text": [
      "<mysql.connector.connection_cext.CMySQLConnection object at 0x0000028325849BB0>\n"
     ]
    }
   ],
   "source": [
    "import mysql.connector\n",
    "\n",
    "mydb = mysql.connector.connect(    # here mydb,mycursor is an variable which is assigned the connector function since it is variable it can be any name of our choice\n",
    " host=\"localhost\",\n",
    " user=\"root\",\n",
    " password=\"\",\n",
    " autocommit = True\n",
    "\n",
    ")\n",
    "\n",
    "mycursor = mydb.cursor(buffered=True) # cursor is important to communicate with database as our mouse cursor helps to communicate with system\n",
    "\n",
    "print(mydb)"
   ]
  },
  {
   "cell_type": "markdown",
   "metadata": {},
   "source": [
    "### database checking"
   ]
  },
  {
   "cell_type": "code",
   "execution_count": 2,
   "metadata": {},
   "outputs": [
    {
     "name": "stdout",
     "output_type": "stream",
     "text": [
      "[('guvi_arun',), ('information_schema',), ('mysql',), ('performance_schema',), ('phpmyadmin',), ('redbus_practice',), ('schooldb',), ('sqlvscode',), ('test',)]\n"
     ]
    }
   ],
   "source": [
    "mycursor.execute(\"SHOW DATABASES\")\n",
    "print(list(mycursor))"
   ]
  },
  {
   "cell_type": "code",
   "execution_count": 3,
   "metadata": {},
   "outputs": [],
   "source": [
    "mycursor.execute(\"CREATE DATABASE redbus_mdte11\")"
   ]
  },
  {
   "cell_type": "markdown",
   "metadata": {},
   "source": [
    "### entire bus details table"
   ]
  },
  {
   "cell_type": "code",
   "execution_count": 2,
   "metadata": {},
   "outputs": [],
   "source": [
    "mycursor.execute(\"CREATE TABLE redbus_mdte11.entire_bus_details ( id INT NOT NULL , starting_place TEXT , reaching_place TEXT, route_link TEXT , \\\n",
    "                 bus_name TEXT , bus_type TEXT , departing_time TIME , duration TEXT , reaching_time TIME , star_rating DECIMAL \\\n",
    "                 , no_reviews INT , price INT , seat_availability INT , vacant_type TEXT \\\n",
    "                 )\")"
   ]
  },
  {
   "cell_type": "markdown",
   "metadata": {},
   "source": [
    "#### since i had an error importing csv file to database with the primary key already specified so i made a column without primary key and droped id column and created it again as primary key."
   ]
  },
  {
   "cell_type": "code",
   "execution_count": 3,
   "metadata": {},
   "outputs": [],
   "source": [
    "mycursor.execute(\"ALTER TABLE redbus_mdte11.entire_bus_details DROP COLUMN id \")"
   ]
  },
  {
   "cell_type": "code",
   "execution_count": 4,
   "metadata": {},
   "outputs": [],
   "source": [
    "mycursor.execute(\"ALTER TABLE redbus_mdte11.entire_bus_details ADD COLUMN id INT NOT NULL AUTO_INCREMENT PRIMARY KEY FIRST \")"
   ]
  },
  {
   "cell_type": "code",
   "execution_count": 6,
   "metadata": {},
   "outputs": [],
   "source": [
    "#mycursor.execute( \"DROP TABLE redbus_practice.bus_route\" )"
   ]
  },
  {
   "cell_type": "markdown",
   "metadata": {},
   "source": [
    "### entire transport routes table"
   ]
  },
  {
   "cell_type": "code",
   "execution_count": 2,
   "metadata": {},
   "outputs": [],
   "source": [
    "mycursor.execute(\"CREATE TABLE redbus_mdte11.entire_transport_routes ( id INT NOT NULL ,\\\n",
    "                  state_transport TEXT, routes_name TEXT,route_link TEXT, first_bus TEXT,\\\n",
    "                 last_bus TEXT,Starting_Price TEXT)\\\n",
    "                 \")"
   ]
  },
  {
   "cell_type": "code",
   "execution_count": 5,
   "metadata": {},
   "outputs": [],
   "source": [
    "mycursor.execute(\"ALTER TABLE redbus_mdte11.entire_transport_routes DROP COLUMN id \")"
   ]
  },
  {
   "cell_type": "code",
   "execution_count": 6,
   "metadata": {},
   "outputs": [],
   "source": [
    "mycursor.execute(\"ALTER TABLE redbus_mdte11.entire_transport_routes ADD COLUMN id INT NOT NULL AUTO_INCREMENT PRIMARY KEY FIRST \")"
   ]
  }
 ],
 "metadata": {
  "kernelspec": {
   "display_name": "Python 3",
   "language": "python",
   "name": "python3"
  },
  "language_info": {
   "codemirror_mode": {
    "name": "ipython",
    "version": 3
   },
   "file_extension": ".py",
   "mimetype": "text/x-python",
   "name": "python",
   "nbconvert_exporter": "python",
   "pygments_lexer": "ipython3",
   "version": "3.12.4"
  }
 },
 "nbformat": 4,
 "nbformat_minor": 2
}
